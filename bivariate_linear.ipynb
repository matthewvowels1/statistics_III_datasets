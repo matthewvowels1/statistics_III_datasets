{
 "cells": [
  {
   "cell_type": "code",
   "execution_count": 4,
   "id": "33cce7c4",
   "metadata": {},
   "outputs": [],
   "source": [
    "import numpy as np\n",
    "import matplotlib.pyplot as plt\n",
    "import pandas as pd"
   ]
  },
  {
   "cell_type": "code",
   "execution_count": 10,
   "id": "6598fcdf",
   "metadata": {},
   "outputs": [],
   "source": [
    "N = 150\n",
    "\n",
    "def generate(N):\n",
    "    \n",
    "    Ux = np.random.randn(N)\n",
    "    Uy = np.random.randn(N)\n",
    "\n",
    "    y = 0.2 + 0.2*Ux + Uy\n",
    "\n",
    "    return Ux, y"
   ]
  },
  {
   "cell_type": "code",
   "execution_count": 14,
   "id": "a8491700",
   "metadata": {},
   "outputs": [],
   "source": [
    "x, y = generate(N)\n",
    "data = pd.DataFrame()\n",
    "data['x'] = x\n",
    "data['y'] = y\n",
    "data.to_csv('bivariate_linear.csv', index=False)"
   ]
  },
  {
   "cell_type": "code",
   "execution_count": null,
   "id": "9910e24e",
   "metadata": {},
   "outputs": [],
   "source": []
  },
  {
   "cell_type": "code",
   "execution_count": null,
   "id": "0233700d",
   "metadata": {},
   "outputs": [],
   "source": []
  }
 ],
 "metadata": {
  "kernelspec": {
   "display_name": "Python 3",
   "language": "python",
   "name": "python3"
  },
  "language_info": {
   "codemirror_mode": {
    "name": "ipython",
    "version": 3
   },
   "file_extension": ".py",
   "mimetype": "text/x-python",
   "name": "python",
   "nbconvert_exporter": "python",
   "pygments_lexer": "ipython3",
   "version": "3.9.7"
  }
 },
 "nbformat": 4,
 "nbformat_minor": 5
}
