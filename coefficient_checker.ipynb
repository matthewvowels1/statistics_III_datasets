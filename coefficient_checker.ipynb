{
 "cells": [
  {
   "cell_type": "code",
   "execution_count": 1,
   "id": "70f20e32",
   "metadata": {},
   "outputs": [],
   "source": [
    "import numpy as np\n",
    "from sklearn.linear_model import LinearRegression\n",
    "import matplotlib.pyplot as plt\n",
    "from tqdm import tqdm"
   ]
  },
  {
   "cell_type": "code",
   "execution_count": 2,
   "id": "d9a4e1d2",
   "metadata": {},
   "outputs": [],
   "source": [
    "\n",
    "\n",
    "def gen_late_med(N):\n",
    "    \n",
    "    X = np.random.randn(N, 1)\n",
    "    UM = np.random.randn(N, 1)\n",
    "    UY = np.random.randn(N, 1)\n",
    "    UC = np.random.randn(N, 1)\n",
    "    \n",
    "    M = 0.5 * X + UM\n",
    "    C = 0.5 * M + UC\n",
    "    Y = 0.5 * M + 0.5 * C + UY\n",
    "    \n",
    "    # true effect of X -> Y is 0.5*((0.5*0.5) + 0.5) = 0.375\n",
    "    \n",
    "    return X, M, C, Y\n",
    "\n",
    "def gen_late_confounder(N):\n",
    "    \n",
    "    X = np.random.randn(N, 1)\n",
    "    UM = np.random.randn(N, 1)\n",
    "    UY = np.random.randn(N, 1)\n",
    "    C = np.random.randn(N, 1)\n",
    "    \n",
    "    M = 0.5 * X + 0.5 * C + UM\n",
    "    Y = 0.5 * M + 0.5 * C + UY\n",
    "    \n",
    "    # true effect of X -> Y is 0.5**2 = 0.25\n",
    "    \n",
    "    return X, M, C, Y"
   ]
  },
  {
   "cell_type": "code",
   "execution_count": null,
   "id": "b808b0e0",
   "metadata": {},
   "outputs": [],
   "source": [
    "\n"
   ]
  },
  {
   "cell_type": "code",
   "execution_count": 3,
   "id": "48adef33",
   "metadata": {},
   "outputs": [
    {
     "name": "stderr",
     "output_type": "stream",
     "text": [
      "100%|███████████████████████████████████████| 5000/5000 [02:14<00:00, 37.12it/s]\n"
     ]
    }
   ],
   "source": [
    "\n",
    "# LATE MEDIATION\n",
    "results_late_med_no_c = []\n",
    "results_late_med_c = []\n",
    "\n",
    "for i in tqdm(range(5000)):\n",
    "    \n",
    "    N = 200000\n",
    "    X, M, C, Y = gen_late_med(N)\n",
    "    \n",
    "    preds_nocontrol = X\n",
    "    preds_control_C = np.concatenate([X, C],1)\n",
    "    \n",
    "    \n",
    "    model = LinearRegression()\n",
    "    model.fit(preds_nocontrol, Y)\n",
    "    results_late_med_no_c.append(model.coef_)\n",
    "    \n",
    "    model = LinearRegression()\n",
    "    model.fit(preds_control_C, Y)\n",
    "    results_late_med_c.append(np.asarray(model.coef_[0][0]).reshape(-1,1))\n",
    "    \n",
    "results_late_med_no_c = np.concatenate(results_late_med_no_c)\n",
    "results_late_med_c = np.concatenate(results_late_med_c)"
   ]
  },
  {
   "cell_type": "code",
   "execution_count": 4,
   "id": "a423b0a3",
   "metadata": {},
   "outputs": [
    {
     "name": "stdout",
     "output_type": "stream",
     "text": [
      "RESULTS FOR LATE MEDIATION MODEL.... \n",
      "\n",
      "Not including variable C:  0.3750047125453725\n",
      "Including variable C:  0.19998935775081927\n"
     ]
    }
   ],
   "source": [
    "print('RESULTS FOR LATE MEDIATION MODEL.... \\n')\n",
    "\n",
    "print('Not including variable C: ', results_late_med_no_c.mean())\n",
    "print('Including variable C: ', results_late_med_c.mean())"
   ]
  },
  {
   "cell_type": "code",
   "execution_count": null,
   "id": "86b4e7d3",
   "metadata": {},
   "outputs": [],
   "source": []
  },
  {
   "cell_type": "code",
   "execution_count": null,
   "id": "1b074303",
   "metadata": {},
   "outputs": [
    {
     "name": "stderr",
     "output_type": "stream",
     "text": [
      " 48%|██████████████████▊                    | 2408/5000 [01:03<01:08, 38.04it/s]"
     ]
    }
   ],
   "source": [
    "\n",
    "# LATE BACKDOOR\n",
    "results_late_conf_no_c = []\n",
    "results_late_conf_c = []\n",
    "\n",
    "for i in tqdm(range(5000)):\n",
    "    \n",
    "    N = 200000\n",
    "    X, M, C, Y = gen_late_confounder(N)\n",
    "    \n",
    "    preds_nocontrol = X\n",
    "    preds_control_C = np.concatenate([X, C],1)\n",
    "    \n",
    "    \n",
    "    model = LinearRegression()\n",
    "    model.fit(preds_nocontrol, Y)\n",
    "    results_late_conf_no_c.append(model.coef_)\n",
    "    \n",
    "    model = LinearRegression()\n",
    "    model.fit(preds_control_C, Y)\n",
    "    results_late_conf_c.append(np.asarray(model.coef_[0][0]).reshape(-1,1))\n",
    "    \n",
    "results_late_conf_no_c = np.concatenate(results_late_conf_no_c)\n",
    "results_late_conf_c = np.concatenate(results_late_conf_c)"
   ]
  },
  {
   "cell_type": "code",
   "execution_count": null,
   "id": "e79a5c40",
   "metadata": {},
   "outputs": [],
   "source": [
    "print('RESULTS FOR LATE CONFOUNDER MODEL.... \\n')\n",
    "\n",
    "print('Not including variable C: ', results_late_conf_no_c.mean())\n",
    "print('Including variable C: ', results_late_conf_c.mean())"
   ]
  }
 ],
 "metadata": {
  "kernelspec": {
   "display_name": "Python 3",
   "language": "python",
   "name": "python3"
  },
  "language_info": {
   "codemirror_mode": {
    "name": "ipython",
    "version": 3
   },
   "file_extension": ".py",
   "mimetype": "text/x-python",
   "name": "python",
   "nbconvert_exporter": "python",
   "pygments_lexer": "ipython3",
   "version": "3.9.7"
  }
 },
 "nbformat": 4,
 "nbformat_minor": 5
}
