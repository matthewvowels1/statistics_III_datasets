{
 "cells": [
  {
   "cell_type": "code",
   "execution_count": 14,
   "id": "70f20e32",
   "metadata": {},
   "outputs": [],
   "source": [
    "import numpy as np\n",
    "from sklearn.linear_model import LinearRegression\n",
    "import matplotlib.pyplot as plt\n",
    "from tqdm import tqdm"
   ]
  },
  {
   "cell_type": "code",
   "execution_count": 19,
   "id": "d9a4e1d2",
   "metadata": {},
   "outputs": [],
   "source": [
    "\n",
    "\n",
    "def gen_late_med(N):\n",
    "    \n",
    "    X = np.random.randn(N, 1)\n",
    "    UM = np.random.randn(N, 1)\n",
    "    UY = np.random.randn(N, 1)\n",
    "    UC = np.random.randn(N, 1)\n",
    "    \n",
    "    M = 0.5 * X + UM\n",
    "    C = 0.5 * M + UC\n",
    "    Y = 0.5 * M + 0.5 * C + UY\n",
    "    \n",
    "    # true effect of X -> Y is 0.5*((0.5*0.5) + 0.5) = 0.375\n",
    "    \n",
    "    return X, M, C, Y\n",
    "\n",
    "def gen_late_backdoor(N):\n",
    "    \n",
    "    X = np.random.randn(N, 1)\n",
    "    UM = np.random.randn(N, 1)\n",
    "    UY = np.random.randn(N, 1)\n",
    "    C = np.random.randn(N, 1)\n",
    "    \n",
    "    M = 0.5 * X + 0.5 * C + UM\n",
    "    Y = 0.5 * M + 0.5 * C + UY\n",
    "    \n",
    "    # true effect of X -> Y is 0.5**2 = 0.25\n",
    "    \n",
    "    return X, M, C, Y"
   ]
  },
  {
   "cell_type": "code",
   "execution_count": 12,
   "id": "b808b0e0",
   "metadata": {},
   "outputs": [],
   "source": [
    "\n"
   ]
  },
  {
   "cell_type": "code",
   "execution_count": 15,
   "id": "48adef33",
   "metadata": {},
   "outputs": [
    {
     "name": "stderr",
     "output_type": "stream",
     "text": [
      "100%|███████████████████████████████████████| 5000/5000 [02:17<00:00, 36.28it/s]\n"
     ]
    }
   ],
   "source": [
    "\n",
    "# LATE MEDIATION\n",
    "results_late_med_no_c = []\n",
    "results_late_med_c = []\n",
    "\n",
    "for i in tqdm(range(5000)):\n",
    "    \n",
    "    N = 200000\n",
    "    X, M, C, Y = gen_late_med(N)\n",
    "    \n",
    "    preds_nocontrol = X\n",
    "    preds_control_C = np.concatenate([X, C],1)\n",
    "    \n",
    "    \n",
    "    model = LinearRegression()\n",
    "    model.fit(preds_nocontrol, Y)\n",
    "    results_late_med_no_c.append(model.coef_)\n",
    "    \n",
    "    model = LinearRegression()\n",
    "    model.fit(preds_control_C, Y)\n",
    "    results_late_med_c.append(np.asarray(model.coef_[0][0]).reshape(-1,1))\n",
    "    \n",
    "results_late_med_no_c = np.concatenate(results_late_med_no_c)\n",
    "results_late_med_c = np.concatenate(results_late_med_c)"
   ]
  },
  {
   "cell_type": "code",
   "execution_count": 16,
   "id": "a423b0a3",
   "metadata": {},
   "outputs": [
    {
     "name": "stdout",
     "output_type": "stream",
     "text": [
      "RESULTS FOR LATE MEDIATION MODEL.... \n",
      "\n",
      "Not including variable C:  0.3750375110387433\n",
      "Including variable C:  0.20000416974928636\n"
     ]
    }
   ],
   "source": [
    "print('RESULTS FOR LATE MEDIATION MODEL.... \\n')\n",
    "\n",
    "print('Not including variable C: ', results_late_med_no_c.mean())\n",
    "print('Including variable C: ', results_late_med_c.mean())"
   ]
  },
  {
   "cell_type": "code",
   "execution_count": null,
   "id": "86b4e7d3",
   "metadata": {},
   "outputs": [],
   "source": []
  },
  {
   "cell_type": "code",
   "execution_count": 20,
   "id": "1b074303",
   "metadata": {},
   "outputs": [
    {
     "name": "stderr",
     "output_type": "stream",
     "text": [
      "100%|███████████████████████████████████████| 5000/5000 [02:11<00:00, 37.95it/s]\n"
     ]
    }
   ],
   "source": [
    "\n",
    "# LATE BACKDOOR\n",
    "results_late_bd_no_c = []\n",
    "results_late_bd_c = []\n",
    "\n",
    "for i in tqdm(range(5000)):\n",
    "    \n",
    "    N = 200000\n",
    "    X, M, C, Y = gen_late_backdoor(N)\n",
    "    \n",
    "    preds_nocontrol = X\n",
    "    preds_control_C = np.concatenate([X, C],1)\n",
    "    \n",
    "    \n",
    "    model = LinearRegression()\n",
    "    model.fit(preds_nocontrol, Y)\n",
    "    results_late_bd_no_c.append(model.coef_)\n",
    "    \n",
    "    model = LinearRegression()\n",
    "    model.fit(preds_control_C, Y)\n",
    "    results_late_bd_c.append(np.asarray(model.coef_[0][0]).reshape(-1,1))\n",
    "    \n",
    "results_late_bd_no_c = np.concatenate(results_late_bd_no_c)\n",
    "results_late_bd_c = np.concatenate(results_late_bd_c)"
   ]
  },
  {
   "cell_type": "code",
   "execution_count": 21,
   "id": "e79a5c40",
   "metadata": {},
   "outputs": [
    {
     "name": "stdout",
     "output_type": "stream",
     "text": [
      "RESULTS FOR LATE BACKDOOR MODEL.... \n",
      "\n",
      "Not including variable C:  0.2500477752614428\n",
      "Including variable C:  0.25003477727583556\n"
     ]
    }
   ],
   "source": [
    "print('RESULTS FOR LATE BACKDOOR MODEL.... \\n')\n",
    "\n",
    "print('Not including variable C: ', results_late_bd_no_c.mean())\n",
    "print('Including variable C: ', results_late_bd_c.mean())"
   ]
  },
  {
   "cell_type": "code",
   "execution_count": null,
   "id": "d16fd06b",
   "metadata": {},
   "outputs": [],
   "source": []
  }
 ],
 "metadata": {
  "kernelspec": {
   "display_name": "Python 3",
   "language": "python",
   "name": "python3"
  },
  "language_info": {
   "codemirror_mode": {
    "name": "ipython",
    "version": 3
   },
   "file_extension": ".py",
   "mimetype": "text/x-python",
   "name": "python",
   "nbconvert_exporter": "python",
   "pygments_lexer": "ipython3",
   "version": "3.9.7"
  }
 },
 "nbformat": 4,
 "nbformat_minor": 5
}
