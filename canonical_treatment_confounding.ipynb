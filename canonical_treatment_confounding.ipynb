{
 "cells": [
  {
   "cell_type": "code",
   "execution_count": 1,
   "id": "229b7b7d",
   "metadata": {},
   "outputs": [],
   "source": [
    "import numpy as np\n",
    "import pandas as pd\n",
    "\n",
    "\n",
    "def generate(N):\n",
    "    Ux = np.random.randn(N)\n",
    "    Ut = np.random.randn(N)\n",
    "    Uy = np.random.randn(N)\n",
    "    \n",
    "    T = 0.4 * Ux + Ut\n",
    "    \n",
    "    y = 0.6 * T + 0.3 * Ux + Uy\n",
    "    \n",
    "    return y, T, Ux\n",
    "\n",
    "N = 10000\n",
    "\n",
    "y, t, x = generate(N)\n",
    "\n",
    "df = pd.DataFrame(data=(y,t, x)).T\n",
    "df.columns = ['y', 'T', 'X']\n",
    "df.to_csv('treatment_confounding.csv', index=False)"
   ]
  },
  {
   "cell_type": "code",
   "execution_count": null,
   "id": "01d22c85",
   "metadata": {},
   "outputs": [],
   "source": []
  }
 ],
 "metadata": {
  "kernelspec": {
   "display_name": "Python 3",
   "language": "python",
   "name": "python3"
  },
  "language_info": {
   "codemirror_mode": {
    "name": "ipython",
    "version": 3
   },
   "file_extension": ".py",
   "mimetype": "text/x-python",
   "name": "python",
   "nbconvert_exporter": "python",
   "pygments_lexer": "ipython3",
   "version": "3.9.7"
  }
 },
 "nbformat": 4,
 "nbformat_minor": 5
}
