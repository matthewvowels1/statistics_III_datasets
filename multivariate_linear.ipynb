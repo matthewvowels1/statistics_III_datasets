{
 "cells": [
  {
   "cell_type": "code",
   "execution_count": 1,
   "id": "f1e89831",
   "metadata": {},
   "outputs": [],
   "source": [
    "import numpy as np\n",
    "import matplotlib.pyplot as plt\n",
    "import pandas as pd"
   ]
  },
  {
   "cell_type": "code",
   "execution_count": 2,
   "id": "ee8af7e3",
   "metadata": {},
   "outputs": [],
   "source": [
    "\n",
    "def generate(N):\n",
    "    Ux1 = np.random.randn(N)\n",
    "    Ux2 = np.random.randn(N)\n",
    "    Ux3 = np.random.randn(N)\n",
    "    Uy = np.random.randn(N)\n",
    "    \n",
    "    y = 0.3 + 0.15*Ux1 - 0.3*Ux2 + 0.4*Ux3 + Uy\n",
    "    \n",
    "    return y, Ux1, Ux2, Ux3"
   ]
  },
  {
   "cell_type": "code",
   "execution_count": 3,
   "id": "cc737f9d",
   "metadata": {},
   "outputs": [],
   "source": [
    "N = 200\n",
    "\n",
    "y, x1, x2, x3 = generate(N)\n",
    "\n",
    "df = pd.DataFrame(data=(y,x1, x2, x3)).T\n",
    "df.columns = ['y', 'A', 'B', 'C']\n",
    "df.to_csv('multivariate.csv', index=False)\n"
   ]
  },
  {
   "cell_type": "code",
   "execution_count": null,
   "id": "364681ba",
   "metadata": {},
   "outputs": [],
   "source": []
  }
 ],
 "metadata": {
  "kernelspec": {
   "display_name": "Python 3",
   "language": "python",
   "name": "python3"
  },
  "language_info": {
   "codemirror_mode": {
    "name": "ipython",
    "version": 3
   },
   "file_extension": ".py",
   "mimetype": "text/x-python",
   "name": "python",
   "nbconvert_exporter": "python",
   "pygments_lexer": "ipython3",
   "version": "3.9.7"
  }
 },
 "nbformat": 4,
 "nbformat_minor": 5
}
