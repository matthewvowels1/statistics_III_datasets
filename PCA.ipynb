{
 "cells": [
  {
   "cell_type": "code",
   "execution_count": 7,
   "id": "ef45a74e",
   "metadata": {},
   "outputs": [],
   "source": [
    "import numpy as np\n",
    "import pandas as pd\n",
    "\n",
    "def generate(N):\n",
    "    Ux1 = np.random.randn(N)\n",
    "    Ux2 = np.random.randn(N)\n",
    "    Ux3 = np.random.randn(N)\n",
    "    Ux4 = np.random.randn(N)\n",
    "    Ux5 = np.random.randn(N)\n",
    "    Ux6 = np.random.randn(N)\n",
    "    Ux7 = np.random.randn(N)\n",
    "    \n",
    "    F1 = np.random.randn(N)\n",
    "    F2 = np.random.randn(N)\n",
    "    F3 = np.random.randn(N)\n",
    "    F4 = np.random.randn(N)\n",
    "    F5 = np.random.randn(N)\n",
    "    F6 = np.random.randn(N)\n",
    "    F7 = np.random.randn(N)\n",
    "    \n",
    "\n",
    "    X1 = 0.8*F1 + Ux1\n",
    "    X2 = 0.7*F1 + Ux2\n",
    "    X3 = 0.6*F3 + Ux3\n",
    "    X4 = 0.6*F3 + Ux4\n",
    "    X5 = 0.4*F6 + Ux5\n",
    "    X6 = 0.4*F6 + Ux6\n",
    "    X7 = 0.7*F6 + Ux7\n",
    "    \n",
    "    return X1, X2, X3, X4, X5, X6, X7"
   ]
  },
  {
   "cell_type": "code",
   "execution_count": 8,
   "id": "9415bb5d",
   "metadata": {},
   "outputs": [],
   "source": [
    "N = 5000\n",
    "X1, X2, X3, X4, X5, X6, X7 = generate(N)\n",
    "\n",
    "df = pd.DataFrame(data=(X1, X2, X3, X4, X5, X6, X7)).T\n",
    "df.columns = ['X1', 'X2', 'X3', 'X4', 'X5', 'X6', 'X7']\n",
    "df.to_csv('pca_{}.csv'.format(N), index=False)\n"
   ]
  },
  {
   "cell_type": "code",
   "execution_count": null,
   "id": "6313767a",
   "metadata": {},
   "outputs": [],
   "source": []
  }
 ],
 "metadata": {
  "kernelspec": {
   "display_name": "Python 3 (ipykernel)",
   "language": "python",
   "name": "python3"
  },
  "language_info": {
   "codemirror_mode": {
    "name": "ipython",
    "version": 3
   },
   "file_extension": ".py",
   "mimetype": "text/x-python",
   "name": "python",
   "nbconvert_exporter": "python",
   "pygments_lexer": "ipython3",
   "version": "3.9.7"
  }
 },
 "nbformat": 4,
 "nbformat_minor": 5
}
